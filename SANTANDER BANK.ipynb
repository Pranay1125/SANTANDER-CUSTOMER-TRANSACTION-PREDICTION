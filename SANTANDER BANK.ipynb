{
 "cells": [
  {
   "cell_type": "code",
   "execution_count": 1,
   "metadata": {
    "collapsed": true
   },
   "outputs": [],
   "source": [
    "import pandas as pd\n",
    "import numpy as np"
   ]
  },
  {
   "cell_type": "code",
   "execution_count": 2,
   "metadata": {},
   "outputs": [
    {
     "name": "stdout",
     "output_type": "stream",
     "text": [
      "(200000, 202)\n",
      "(200000, 200)\n"
     ]
    }
   ],
   "source": [
    "data  = pd.read_csv('F:/DATA SCIENCE/PROJECT 5 TRANSACTION/train.csv')\n",
    "test_data  = pd.read_csv('F:/DATA SCIENCE/PROJECT 5 TRANSACTION/test.csv',index_col=0)\n",
    "\n",
    "# Importing Train and Test Files\n",
    "\n",
    "print(data.shape)\n",
    "print(test_data.shape)"
   ]
  },
  {
   "cell_type": "code",
   "execution_count": 3,
   "metadata": {},
   "outputs": [
    {
     "data": {
      "text/plain": [
       "var_199    0\n",
       "var_61     0\n",
       "var_71     0\n",
       "var_70     0\n",
       "var_69     0\n",
       "var_68     0\n",
       "var_67     0\n",
       "var_66     0\n",
       "var_65     0\n",
       "var_64     0\n",
       "var_63     0\n",
       "var_62     0\n",
       "var_60     0\n",
       "var_48     0\n",
       "var_59     0\n",
       "var_58     0\n",
       "var_57     0\n",
       "var_56     0\n",
       "var_55     0\n",
       "var_54     0\n",
       "var_53     0\n",
       "var_52     0\n",
       "var_51     0\n",
       "var_50     0\n",
       "var_72     0\n",
       "var_73     0\n",
       "var_74     0\n",
       "var_75     0\n",
       "var_96     0\n",
       "var_95     0\n",
       "          ..\n",
       "var_104    0\n",
       "var_103    0\n",
       "var_102    0\n",
       "var_101    0\n",
       "var_122    0\n",
       "var_124    0\n",
       "var_147    0\n",
       "var_125    0\n",
       "var_146    0\n",
       "var_145    0\n",
       "var_144    0\n",
       "var_143    0\n",
       "var_142    0\n",
       "var_141    0\n",
       "var_140    0\n",
       "var_139    0\n",
       "var_138    0\n",
       "var_137    0\n",
       "var_136    0\n",
       "var_135    0\n",
       "var_134    0\n",
       "var_133    0\n",
       "var_132    0\n",
       "var_131    0\n",
       "var_130    0\n",
       "var_129    0\n",
       "var_128    0\n",
       "var_127    0\n",
       "var_126    0\n",
       "ID_code    0\n",
       "Length: 202, dtype: int64"
      ]
     },
     "execution_count": 3,
     "metadata": {},
     "output_type": "execute_result"
    }
   ],
   "source": [
    "data.isnull().sum().sort_values(ascending=False)\n",
    "\n",
    "# Fining the empty cells in data set"
   ]
  },
  {
   "cell_type": "code",
   "execution_count": 4,
   "metadata": {},
   "outputs": [
    {
     "data": {
      "text/plain": [
       "var_199    0\n",
       "var_62     0\n",
       "var_72     0\n",
       "var_71     0\n",
       "var_70     0\n",
       "var_69     0\n",
       "var_68     0\n",
       "var_67     0\n",
       "var_66     0\n",
       "var_65     0\n",
       "var_64     0\n",
       "var_63     0\n",
       "var_61     0\n",
       "var_198    0\n",
       "var_60     0\n",
       "var_59     0\n",
       "var_58     0\n",
       "var_57     0\n",
       "var_56     0\n",
       "var_55     0\n",
       "var_54     0\n",
       "var_53     0\n",
       "var_52     0\n",
       "var_51     0\n",
       "var_73     0\n",
       "var_74     0\n",
       "var_75     0\n",
       "var_76     0\n",
       "var_97     0\n",
       "var_96     0\n",
       "          ..\n",
       "var_105    0\n",
       "var_104    0\n",
       "var_103    0\n",
       "var_102    0\n",
       "var_123    0\n",
       "var_125    0\n",
       "var_148    0\n",
       "var_126    0\n",
       "var_147    0\n",
       "var_146    0\n",
       "var_145    0\n",
       "var_144    0\n",
       "var_143    0\n",
       "var_142    0\n",
       "var_141    0\n",
       "var_140    0\n",
       "var_139    0\n",
       "var_138    0\n",
       "var_137    0\n",
       "var_136    0\n",
       "var_135    0\n",
       "var_134    0\n",
       "var_133    0\n",
       "var_132    0\n",
       "var_131    0\n",
       "var_130    0\n",
       "var_129    0\n",
       "var_128    0\n",
       "var_127    0\n",
       "var_0      0\n",
       "Length: 200, dtype: int64"
      ]
     },
     "execution_count": 4,
     "metadata": {},
     "output_type": "execute_result"
    }
   ],
   "source": [
    "test_data.isnull().sum().sort_values(ascending=False)\n",
    "\n",
    "# Fining the empty cells in test_data set"
   ]
  },
  {
   "cell_type": "code",
   "execution_count": 16,
   "metadata": {
    "collapsed": true
   },
   "outputs": [],
   "source": [
    "XX = data.drop(['target','ID_code'],axis = 1)\n",
    "YY = data['target']"
   ]
  },
  {
   "cell_type": "markdown",
   "metadata": {},
   "source": [
    "# TEST/TRAIN SPLIT"
   ]
  },
  {
   "cell_type": "code",
   "execution_count": 17,
   "metadata": {},
   "outputs": [
    {
     "data": {
      "text/plain": [
       "(160000, 40000)"
      ]
     },
     "execution_count": 17,
     "metadata": {},
     "output_type": "execute_result"
    }
   ],
   "source": [
    "from sklearn.model_selection import train_test_split\n",
    "\n",
    "X_train,X_test,Y_train,Y_test = train_test_split(XX,YY,test_size=0.2)\n",
    "len(Y_train),len(Y_test)"
   ]
  },
  {
   "cell_type": "markdown",
   "metadata": {},
   "source": [
    "# APPLYING XGBOOST"
   ]
  },
  {
   "cell_type": "code",
   "execution_count": 18,
   "metadata": {
    "collapsed": true
   },
   "outputs": [],
   "source": [
    "import xgboost as xgb"
   ]
  },
  {
   "cell_type": "markdown",
   "metadata": {},
   "source": [
    "# Creating DMatrix for faster computation"
   ]
  },
  {
   "cell_type": "code",
   "execution_count": 19,
   "metadata": {
    "collapsed": true
   },
   "outputs": [],
   "source": [
    "dtrain = xgb.DMatrix(X_train,Y_train)\n",
    "dtest = xgb.DMatrix(X_test)"
   ]
  },
  {
   "cell_type": "code",
   "execution_count": 20,
   "metadata": {
    "collapsed": true
   },
   "outputs": [],
   "source": [
    "model = xgb.train({'max_depth':3,\n",
    "                   'silent':1,\n",
    "                   'eta':0.28071497637474263, # learning rate\n",
    "                   'gamma':0,\n",
    "                   'min_child_weight':0.2784483175645849,\n",
    "                   'objective':'binary:logistic',\n",
    "                  },\n",
    "                  dtrain,\n",
    "                  500)"
   ]
  },
  {
   "cell_type": "code",
   "execution_count": 21,
   "metadata": {},
   "outputs": [
    {
     "name": "stdout",
     "output_type": "stream",
     "text": [
      "Test Data ROC: 0.885\n"
     ]
    }
   ],
   "source": [
    "from sklearn.metrics import roc_auc_score\n",
    "\n",
    "result = model.predict(dtest)\n",
    "#result = [int(prob >= 0.5) for prob in list(result)] \n",
    "roc_score = roc_auc_score(Y_test,result)\n",
    "print('Test Data ROC: %.3f'%roc_score)"
   ]
  },
  {
   "cell_type": "markdown",
   "metadata": {},
   "source": [
    "# Prediction of target in the test_data"
   ]
  },
  {
   "cell_type": "code",
   "execution_count": 33,
   "metadata": {
    "collapsed": true
   },
   "outputs": [],
   "source": [
    "test_data = xgb.DMatrix(test_data)\n",
    "result = model.predict(test_data)"
   ]
  },
  {
   "cell_type": "code",
   "execution_count": 35,
   "metadata": {
    "collapsed": true
   },
   "outputs": [],
   "source": [
    "pd.DataFrame(result).to_csv('XGB 112 TRANSACTION.csv')\n",
    "# Saves the Predcted Values as XGB 112.csv file in your PC"
   ]
  },
  {
   "cell_type": "code",
   "execution_count": null,
   "metadata": {
    "collapsed": true
   },
   "outputs": [],
   "source": []
  }
 ],
 "metadata": {
  "kernelspec": {
   "display_name": "Python 3",
   "language": "python",
   "name": "python3"
  },
  "language_info": {
   "codemirror_mode": {
    "name": "ipython",
    "version": 3
   },
   "file_extension": ".py",
   "mimetype": "text/x-python",
   "name": "python",
   "nbconvert_exporter": "python",
   "pygments_lexer": "ipython3",
   "version": "3.5.4"
  }
 },
 "nbformat": 4,
 "nbformat_minor": 2
}
